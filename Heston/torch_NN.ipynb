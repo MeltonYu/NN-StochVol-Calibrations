{
 "cells": [
  {
   "cell_type": "code",
   "execution_count": 4,
   "metadata": {},
   "outputs": [
    {
     "name": "stdout",
     "output_type": "stream",
     "text": [
      "(12000, 5)\n"
     ]
    }
   ],
   "source": [
    "import os\n",
    "os.chdir(\"..\\Data\")\n",
    "\n",
    "import gzip\n",
    "import pandas as pd\n",
    "import numpy as np\n",
    "import matplotlib.pyplot as plt\n",
    "import matplotlib.ticker as mtick\n",
    "f = gzip.GzipFile('HestonTrainSet.txt.gz', \"r\")\n",
    "dat=np.load(f)\n",
    "xx=dat[:,:5]\n",
    "yy=dat[:,5:]\n",
    "print(xx.shape)\n",
    "strikes=np.array([0.5,0.6,0.7,0.8,0.9,1.0,1.1,1.2,1.3,1.4,1.5 ])\n",
    "maturities=np.array([0.1,0.3,0.6,0.9,1.2,1.5,1.8,2.0 ])"
   ]
  },
  {
   "cell_type": "code",
   "execution_count": 2,
   "metadata": {},
   "outputs": [],
   "source": [
    "\"\"\"\n",
    "from sklearn.model_selection import train_test_split\n",
    "X_train, X_test, y_train, y_test = train_test_split(\n",
    "    yy, xx, test_size=0.15, random_state=42)\n",
    "from sklearn.preprocessing import StandardScaler\n",
    "\n",
    "scale = StandardScaler()\n",
    "scale2=  StandardScaler()\n",
    "y_train_transform = scale.fit_transform(y_train)\n",
    "y_test_transform = scale.transform(y_test)\n",
    "x_train_transform = scale2.fit_transform(X_train)\n",
    "x_test_transform = scale2.transform(X_test)\n",
    "\n",
    "def xtransform(X_train,X_test):\n",
    "    return [scale2.transform(X_train),scale2.transform(X_test)]\n",
    "\n",
    "    \n",
    "[x_train_transform,x_test_transform]=xtransform(X_train,X_test)\n",
    "\n",
    "def xinversetransform(x):\n",
    "    return scale2.inverse_transform(x)\n",
    "\n",
    "\n",
    "ub=[0.04,-0.1,1.0,0.2,10.0]\n",
    "lb=[0.0001,-0.95,0.01,0.01,1]\n",
    "def myscale(x):\n",
    "    res=np.zeros(5)\n",
    "    for i in range(5):\n",
    "        res[i]=(x[i] - (ub[i] + lb[i])*0.5) * 2 / (ub[i] - lb[i])\n",
    "        \n",
    "    return res\n",
    "def myinverse(x):\n",
    "    res=np.zeros(5)\n",
    "    for i in range(5):\n",
    "        res[i]=x[i]*(ub[i] - lb[i]) *0.5 + (ub[i] + lb[i])*0.5\n",
    "        \n",
    "    return res\n",
    "\n",
    "\n",
    "y_train_transform = np.array([myscale(y) for y in y_train])\n",
    "y_test_transform = np.array([myscale(y) for y in y_test])\n",
    "\"\"\""
   ]
  },
  {
   "cell_type": "markdown",
   "metadata": {},
   "source": [
    "# Use pytorch instead of keras."
   ]
  },
  {
   "cell_type": "markdown",
   "metadata": {},
   "source": [
    "## data preprocess"
   ]
  },
  {
   "cell_type": "code",
   "execution_count": 14,
   "metadata": {},
   "outputs": [
    {
     "data": {
      "text/plain": [
       "(10200, 88)"
      ]
     },
     "execution_count": 14,
     "metadata": {},
     "output_type": "execute_result"
    }
   ],
   "source": [
    "from sklearn.model_selection import train_test_split\n",
    "from sklearn.preprocessing import StandardScaler\n",
    "\n",
    "x_train, x_test, y_train, y_test = train_test_split(\n",
    "    xx, yy, test_size=0.15, random_state=42)\n",
    "scale_x = StandardScaler()\n",
    "scale_y=  StandardScaler()\n",
    "\n",
    "def xtransform(x_train, x_test):\n",
    "    return [scale_x.fit_transform(x_train),scale_x.transform(x_test)]\n",
    "\n",
    "def xinversetransform(x):\n",
    "    return scale_x.inverse_transform(x)\n",
    "\n",
    "def ytransform(y_train,y_test):\n",
    "    return [scale_y.fit_transform(y_train),scale_y.transform(y_test)]\n",
    "\n",
    "def yinversetransform(y):\n",
    "    return scale_y.inverse_transform(y)\n",
    "\n",
    "\n",
    "\n",
    "ub=np.array([0.04,-0.1,1.0,0.2,10.0])\n",
    "lb=np.array([0.0001,-0.95,0.01,0.01,1])\n",
    "def myscale(x):\n",
    "    return (x - (ub+lb)*0.5)*2/(ub-lb)\n",
    "def myinverse(x):\n",
    "    return x*(ub-lb)*0.5+(ub+lb)*0.5\n",
    "\n",
    "x_train_transform = myscale(x_train)\n",
    "x_test_transform = myscale(x_test)\n",
    "[y_train_transform,y_test_transform] = ytransform(y_train,y_test)"
   ]
  },
  {
   "cell_type": "markdown",
   "metadata": {},
   "source": [
    "## Data load to torch.Tensor"
   ]
  },
  {
   "cell_type": "code",
   "execution_count": 22,
   "metadata": {},
   "outputs": [
    {
     "name": "stdout",
     "output_type": "stream",
     "text": [
      "2\n"
     ]
    }
   ],
   "source": [
    "import torch\n",
    "\n",
    "train_dataset = torch.utils.data.TensorDataset(torch.from_numpy(x_train_transform),torch.from_numpy(y_train_transform))\n",
    "test_dataset = torch.utils.data.TensorDataset(torch.from_numpy(x_test_transform),torch.from_numpy(y_test_transform))\n",
    "\n",
    "data_loader = torch.utils.data.DataLoader(train_dataset,batch_size =64,shuffle=True)"
   ]
  },
  {
   "cell_type": "markdown",
   "metadata": {},
   "source": [
    "## define nn model"
   ]
  }
 ],
 "metadata": {
  "kernelspec": {
   "display_name": "normal",
   "language": "python",
   "name": "python3"
  },
  "language_info": {
   "codemirror_mode": {
    "name": "ipython",
    "version": 3
   },
   "file_extension": ".py",
   "mimetype": "text/x-python",
   "name": "python",
   "nbconvert_exporter": "python",
   "pygments_lexer": "ipython3",
   "version": "3.11.6"
  }
 },
 "nbformat": 4,
 "nbformat_minor": 2
}
