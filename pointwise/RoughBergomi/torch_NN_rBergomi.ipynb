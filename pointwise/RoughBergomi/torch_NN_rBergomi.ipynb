{
 "cells": [
  {
   "cell_type": "code",
   "execution_count": 1,
   "metadata": {},
   "outputs": [],
   "source": [
    "import os\n",
    "\n",
    "import gzip\n",
    "import pandas as pd\n",
    "import numpy as np\n",
    "import matplotlib.pyplot as plt\n",
    "import matplotlib.ticker as mtick\n",
    "f = gzip.GzipFile(r\"../../Data/rBergomiTrainSet.txt.gz\", \"r\")\n",
    "dat=np.load(f)\n",
    "xx=dat[:,:4]\n",
    "yy=dat[:,4:]\n",
    "strikes=np.array([0.5,0.6,0.7,0.8,0.9,1.0,1.1,1.2,1.3,1.4,1.5 ])\n",
    "maturities=np.array([0.1,0.3,0.6,0.9,1.2,1.5,1.8,2.0 ])"
   ]
  },
  {
   "cell_type": "code",
   "execution_count": 3,
   "metadata": {},
   "outputs": [],
   "source": [
    "yy = yy.reshape(-1,8,11)\n",
    "xx = np.repeat(xx, 8*11,axis=0)\n",
    "\n",
    "def get_x_index(a,x_dim):\n",
    "    index_array = np.arange(a.shape[0])\n",
    "    \n",
    "    return index_array // x_dim\n",
    "\n",
    "def get_y_index(a,y_dim):\n",
    "    index_array = np.arange(a.shape[0])\n",
    "    \n",
    "    return index_array % y_dim\n",
    "\n",
    "def append_and_expand(a,x,y):\n",
    "    # use choose and where !\n",
    "    x_index = get_x_index(a,len(x))\n",
    "    y_index = get_y_index(a,len(y))\n",
    "    \n",
    "    x_added = np.choose(x_index,)"
   ]
  },
  {
   "cell_type": "code",
   "execution_count": null,
   "metadata": {},
   "outputs": [],
   "source": []
  }
 ],
 "metadata": {
  "kernelspec": {
   "display_name": "initial",
   "language": "python",
   "name": "python3"
  },
  "language_info": {
   "codemirror_mode": {
    "name": "ipython",
    "version": 3
   },
   "file_extension": ".py",
   "mimetype": "text/x-python",
   "name": "python",
   "nbconvert_exporter": "python",
   "pygments_lexer": "ipython3",
   "version": "3.12.2"
  }
 },
 "nbformat": 4,
 "nbformat_minor": 2
}
