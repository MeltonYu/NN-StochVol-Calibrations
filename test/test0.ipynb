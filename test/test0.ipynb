{
 "cells": [
  {
   "cell_type": "code",
   "execution_count": 2,
   "metadata": {},
   "outputs": [],
   "source": [
    "import os\n",
    "import pandas as pd\n",
    "import numpy as np\n",
    "import gzip\n",
    "\n",
    "os.chdir(\"../Data\")\n"
   ]
  },
  {
   "cell_type": "code",
   "execution_count": 3,
   "metadata": {},
   "outputs": [
    {
     "name": "stdout",
     "output_type": "stream",
     "text": [
      "(12000, 5)\n"
     ]
    }
   ],
   "source": [
    "f = gzip.GzipFile('HestonTrainSet.txt.gz', \"r\")\n",
    "dat=np.load(f)\n",
    "xx=dat[:,:5]\n",
    "yy=dat[:,5:]\n",
    "print(xx.shape)\n",
    "strikes=np.array([0.5,0.6,0.7,0.8,0.9,1.0,1.1,1.2,1.3,1.4,1.5 ])\n",
    "maturities=np.array([0.1,0.3,0.6,0.9,1.2,1.5,1.8,2.0 ])"
   ]
  },
  {
   "cell_type": "markdown",
   "metadata": {},
   "source": [
    "Heston model:\n",
    "\n",
    "\\begin{align}\n",
    "& dS_t = \\mu S_t d_t + \\sqrt{v_t}S_tdW_t^S \\\\ \n",
    "\n",
    "& dv_t = \\kappa(\\theta-v_t)dt+\\nu\\sqrt{v_t}dW_t^v \\\\ \n",
    "\n",
    "& dW_t^S  dW_t^v = \\rho dt\n",
    "\\end{align}"
   ]
  },
  {
   "cell_type": "markdown",
   "metadata": {},
   "source": [
    "# Step 1: Data Generation\n",
    "\n",
    "\n",
    "## **Inputs:** \n",
    "###  1. $\\rho$ spot-vol correlation,\n",
    "###  2. $\\nu$ vol of vol\n",
    "###  3. $\\theta$ long term vol\n",
    "###  4. $\\kappa$ speed of mean reversion \n",
    "###  5. $\\xi_{0}$ forward variance curve\n",
    "    \n",
    "    \n",
    "## **Outputs:**\n",
    "### Implied volatility surface (11x8=88 points)"
   ]
  },
  {
   "cell_type": "code",
   "execution_count": 4,
   "metadata": {},
   "outputs": [],
   "source": [
    "from sklearn.model_selection import train_test_split\n",
    "X_train, X_test, y_train, y_test = train_test_split(\n",
    "    yy, xx, test_size=0.15, random_state=42)\n",
    "from sklearn.preprocessing import StandardScaler\n",
    "\n",
    "scale = StandardScaler()\n",
    "scale2=  StandardScaler()\n",
    "y_train_transform = scale.fit_transform(y_train)\n",
    "y_test_transform = scale.transform(y_test)\n",
    "x_train_transform = scale2.fit_transform(X_train)\n",
    "x_test_transform = scale2.transform(X_test)"
   ]
  },
  {
   "cell_type": "code",
   "execution_count": 5,
   "metadata": {},
   "outputs": [],
   "source": [
    "def xtransform(X_train,X_test):\n",
    "    return [scale2.transform(X_train),scale2.transform(X_test)]\n",
    "\n",
    "    \n",
    "[x_train_transform,x_test_transform]=xtransform(X_train,X_test)\n",
    "\n",
    "def xinversetransform(x):\n",
    "    return scale2.inverse_transform(x)"
   ]
  },
  {
   "cell_type": "code",
   "execution_count": 6,
   "metadata": {},
   "outputs": [],
   "source": [
    "ub=[0.04,-0.1,1.0,0.2,10.0]\n",
    "lb=[0.0001,-0.95,0.01,0.01,1]\n",
    "def myscale(x):\n",
    "    res=np.zeros(5)\n",
    "    for i in range(5):\n",
    "        res[i]=(x[i] - (ub[i] + lb[i])*0.5) * 2 / (ub[i] - lb[i])\n",
    "        \n",
    "    return res\n",
    "def myinverse(x):\n",
    "    res=np.zeros(5)\n",
    "    for i in range(5):\n",
    "        res[i]=x[i]*(ub[i] - lb[i]) *0.5 + (ub[i] + lb[i])*0.5\n",
    "        \n",
    "    return res"
   ]
  },
  {
   "cell_type": "code",
   "execution_count": null,
   "metadata": {},
   "outputs": [],
   "source": [
    "y_train_transform = np.array([myscale(y) for y in y_train])\n",
    "y_test_transform = np.array([myscale(y) for y in y_test])"
   ]
  }
 ],
 "metadata": {
  "kernelspec": {
   "display_name": "normal",
   "language": "python",
   "name": "python3"
  },
  "language_info": {
   "codemirror_mode": {
    "name": "ipython",
    "version": 3
   },
   "file_extension": ".py",
   "mimetype": "text/x-python",
   "name": "python",
   "nbconvert_exporter": "python",
   "pygments_lexer": "ipython3",
   "version": "3.11.6"
  }
 },
 "nbformat": 4,
 "nbformat_minor": 2
}
