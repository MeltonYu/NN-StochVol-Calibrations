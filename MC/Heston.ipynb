{
 "cells": [
  {
   "cell_type": "code",
   "execution_count": 2,
   "metadata": {},
   "outputs": [
    {
     "name": "stdout",
     "output_type": "stream",
     "text": [
      "Option Price: 1.6510\n",
      "Standard Error: 0.0050\n",
      "Relative Error: 0.30%\n",
      "Elapsed Time: 0.94 seconds\n",
      "Final Option Price: 1.6510\n",
      "Final Standard Error: 0.0050\n",
      "Final Relative Error: 0.30%\n",
      "Total Elapsed Time: 0.94 seconds\n"
     ]
    }
   ],
   "source": [
    "import numpy as np\n",
    "import time\n",
    "\n",
    "# Monte Carlo parameters\n",
    "num_simulations = 100000  # Number of simulations\n",
    "num_steps = 100  # Number of time steps\n",
    "dt = 1.0 / num_steps  # Time step size\n",
    "\n",
    "# Heston model parameters\n",
    "S0 = 100  # Initial stock price\n",
    "V0 = 0.04  # Initial variance\n",
    "kappa = 2.0  # Mean reversion rate of variance\n",
    "theta = 0.04  # Long-term variance\n",
    "sigma = 0.3  # Volatility of volatility\n",
    "rho = -0.7  # Correlation between the two Brownian motions\n",
    "r = 0.03  # Risk-free rate\n",
    "T = 1.0  # Time to maturity\n",
    "\n",
    "def generate_correlated_brownian_motion(n_paths, n_steps, dt, rho):\n",
    "    dW1 = np.random.randn(n_paths, n_steps) * np.sqrt(dt)\n",
    "    dW2 = rho * dW1 + np.sqrt(1 - rho**2) * np.random.randn(n_paths, n_steps) * np.sqrt(dt)\n",
    "    return dW1, dW2\n",
    "\n",
    "def simulate_heston_model(n_paths, n_steps, dt, S0, V0, kappa, theta, sigma, rho, r, T):\n",
    "    dW1, dW2 = generate_correlated_brownian_motion(n_paths, n_steps, dt, rho)\n",
    "    \n",
    "    S = np.zeros((n_paths, n_steps+1))\n",
    "    V = np.zeros((n_paths, n_steps+1))\n",
    "    \n",
    "    S[:, 0] = S0\n",
    "    V[:, 0] = V0\n",
    "    \n",
    "    for t in range(1, n_steps+1):\n",
    "        V[:, t] = np.maximum(V[:, t-1] + kappa * (theta - V[:, t-1]) * dt + sigma * np.sqrt(V[:, t-1]) * dW2[:, t-1], 0)\n",
    "        S[:, t] = S[:, t-1] * np.exp((r - 0.5 * V[:, t-1]) * dt + np.sqrt(V[:, t-1] * dt) * dW1[:, t-1])\n",
    "    \n",
    "    return S[:, -1]\n",
    "\n",
    "def monte_carlo_pricing_heston(n_paths, n_steps, dt, S0, V0, kappa, theta, sigma, rho, r, T, K):\n",
    "    np.random.seed(42)\n",
    "    start_time = time.time()\n",
    "    \n",
    "    S_T = simulate_heston_model(n_paths, n_steps, dt, S0, V0, kappa, theta, sigma, rho, r, T)\n",
    "    payoff = np.maximum(S_T - K, 0)\n",
    "    \n",
    "    price_estimate = np.exp(-r * T) * np.mean(payoff)\n",
    "    price_std_error = np.exp(-r * T) * np.std(payoff) / np.sqrt(n_paths)\n",
    "    relative_error = (price_std_error / price_estimate) * 100\n",
    "    \n",
    "    end_time = time.time()\n",
    "    elapsed_time = end_time - start_time\n",
    "    \n",
    "    print(f\"Option Price: {price_estimate:.4f}\")\n",
    "    print(f\"Standard Error: {price_std_error:.4f}\")\n",
    "    print(f\"Relative Error: {relative_error:.2f}%\")\n",
    "    print(f\"Elapsed Time: {elapsed_time:.2f} seconds\")\n",
    "    \n",
    "    return price_estimate, price_std_error, relative_error, elapsed_time\n",
    "\n",
    "# Running the Heston model MC simulation\n",
    "K = 100  # Strike price\n",
    "price, std_error, rel_error, elapsed_time = monte_carlo_pricing_heston(num_simulations, num_steps, dt, S0, V0, kappa, theta, sigma, rho, r, T, K)\n",
    "\n",
    "# Print results\n",
    "print(f\"Final Option Price: {price:.4f}\")\n",
    "print(f\"Final Standard Error: {std_error:.4f}\")\n",
    "print(f\"Final Relative Error: {rel_error:.2f}%\")\n",
    "print(f\"Total Elapsed Time: {elapsed_time:.2f} seconds\")\n",
    "\n"
   ]
  }
 ],
 "metadata": {
  "kernelspec": {
   "display_name": "initial",
   "language": "python",
   "name": "python3"
  },
  "language_info": {
   "codemirror_mode": {
    "name": "ipython",
    "version": 3
   },
   "file_extension": ".py",
   "mimetype": "text/x-python",
   "name": "python",
   "nbconvert_exporter": "python",
   "pygments_lexer": "ipython3",
   "version": "3.12.2"
  }
 },
 "nbformat": 4,
 "nbformat_minor": 2
}
